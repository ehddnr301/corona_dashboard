{
 "cells": [
  {
   "cell_type": "code",
   "execution_count": 1,
   "metadata": {},
   "outputs": [],
   "source": [
    "import pandas as pd"
   ]
  },
  {
   "cell_type": "markdown",
   "metadata": {},
   "source": [
    "## 전체 확진자, 사망자, 완치자 수"
   ]
  },
  {
   "cell_type": "code",
   "execution_count": 2,
   "metadata": {},
   "outputs": [
    {
     "data": {
      "text/html": [
       "<div>\n",
       "<style scoped>\n",
       "    .dataframe tbody tr th:only-of-type {\n",
       "        vertical-align: middle;\n",
       "    }\n",
       "\n",
       "    .dataframe tbody tr th {\n",
       "        vertical-align: top;\n",
       "    }\n",
       "\n",
       "    .dataframe thead th {\n",
       "        text-align: right;\n",
       "    }\n",
       "</style>\n",
       "<table border=\"1\" class=\"dataframe\">\n",
       "  <thead>\n",
       "    <tr style=\"text-align: right;\">\n",
       "      <th></th>\n",
       "      <th>condition</th>\n",
       "      <th>count</th>\n",
       "    </tr>\n",
       "  </thead>\n",
       "  <tbody>\n",
       "    <tr>\n",
       "      <th>0</th>\n",
       "      <td>Confirmed</td>\n",
       "      <td>22678483</td>\n",
       "    </tr>\n",
       "    <tr>\n",
       "      <th>1</th>\n",
       "      <td>Deaths</td>\n",
       "      <td>793698</td>\n",
       "    </tr>\n",
       "    <tr>\n",
       "      <th>2</th>\n",
       "      <td>Recovered</td>\n",
       "      <td>14541573</td>\n",
       "    </tr>\n",
       "  </tbody>\n",
       "</table>\n",
       "</div>"
      ],
      "text/plain": [
       "   condition     count\n",
       "0  Confirmed  22678483\n",
       "1     Deaths    793698\n",
       "2  Recovered  14541573"
      ]
     },
     "execution_count": 2,
     "metadata": {},
     "output_type": "execute_result"
    }
   ],
   "source": [
    "daily_df = pd.read_csv(\"data/daily_report.csv\")\n",
    "\n",
    "totals_df = (\n",
    "    daily_df[[\"Confirmed\", \"Deaths\", \"Recovered\"]].sum().reset_index(name=\"count\")\n",
    ")\n",
    "totals_df = totals_df.rename(columns={\"index\": \"condition\"})\n",
    "totals_df"
   ]
  },
  {
   "cell_type": "markdown",
   "metadata": {},
   "source": [
    "## 일자별 전체 확진자, 사망자, 완치자 수"
   ]
  },
  {
   "cell_type": "code",
   "execution_count": 3,
   "metadata": {},
   "outputs": [],
   "source": [
    "conditions = ['confirmed', 'deaths', 'recovered']"
   ]
  },
  {
   "cell_type": "code",
   "execution_count": 4,
   "metadata": {},
   "outputs": [],
   "source": [
    "def make_global_df(conditions):\n",
    "    def make_df(condition):\n",
    "        df = pd.read_csv(f'new_data/timeseries_{condition}_global.csv')\n",
    "        df = (\n",
    "            df.drop(['Province/State', 'Country/Region', 'Lat', 'Long'], axis=1)\n",
    "            .sum()\n",
    "            .reset_index(name=f'{condition}_total')\n",
    "        )\n",
    "        df = df.rename(columns={'index':'date'})\n",
    "        return df\n",
    "\n",
    "    final_df = None\n",
    "    for condition in conditions:\n",
    "        df = make_df(condition)\n",
    "\n",
    "        if final_df is None:\n",
    "            final_df = df\n",
    "        else:\n",
    "            final_df = final_df.merge(df)\n",
    "    \n",
    "    return final_df"
   ]
  },
  {
   "cell_type": "code",
   "execution_count": 5,
   "metadata": {},
   "outputs": [],
   "source": [
    "final_df = make_global_df(conditions)"
   ]
  },
  {
   "cell_type": "code",
   "execution_count": 6,
   "metadata": {},
   "outputs": [
    {
     "data": {
      "text/html": [
       "<div>\n",
       "<style scoped>\n",
       "    .dataframe tbody tr th:only-of-type {\n",
       "        vertical-align: middle;\n",
       "    }\n",
       "\n",
       "    .dataframe tbody tr th {\n",
       "        vertical-align: top;\n",
       "    }\n",
       "\n",
       "    .dataframe thead th {\n",
       "        text-align: right;\n",
       "    }\n",
       "</style>\n",
       "<table border=\"1\" class=\"dataframe\">\n",
       "  <thead>\n",
       "    <tr style=\"text-align: right;\">\n",
       "      <th></th>\n",
       "      <th>date</th>\n",
       "      <th>confirmed_total</th>\n",
       "      <th>deaths_total</th>\n",
       "      <th>recovered_total</th>\n",
       "    </tr>\n",
       "  </thead>\n",
       "  <tbody>\n",
       "    <tr>\n",
       "      <th>0</th>\n",
       "      <td>1/22/20</td>\n",
       "      <td>557</td>\n",
       "      <td>17</td>\n",
       "      <td>30</td>\n",
       "    </tr>\n",
       "    <tr>\n",
       "      <th>1</th>\n",
       "      <td>1/23/20</td>\n",
       "      <td>655</td>\n",
       "      <td>18</td>\n",
       "      <td>32</td>\n",
       "    </tr>\n",
       "  </tbody>\n",
       "</table>\n",
       "</div>"
      ],
      "text/plain": [
       "      date  confirmed_total  deaths_total  recovered_total\n",
       "0  1/22/20              557            17               30\n",
       "1  1/23/20              655            18               32"
      ]
     },
     "execution_count": 6,
     "metadata": {},
     "output_type": "execute_result"
    }
   ],
   "source": [
    "final_df.head(2)"
   ]
  },
  {
   "cell_type": "markdown",
   "metadata": {},
   "source": [
    "## 국가별 확진자, 사망자, 완치자"
   ]
  },
  {
   "cell_type": "code",
   "execution_count": 7,
   "metadata": {},
   "outputs": [],
   "source": [
    "def make_country_df(country):\n",
    "    def make_df(condition):\n",
    "        df = pd.read_csv(\"data/time_confirmed.csv\")\n",
    "        df = df.loc[df[\"Country/Region\"] == country]\n",
    "        df = (\n",
    "            df.drop(columns=[\"Province/State\", \"Country/Region\", \"Lat\", \"Long\"])\n",
    "            .sum()\n",
    "            .reset_index(name=condition)\n",
    "        )\n",
    "        df = df.rename(columns={\"index\": \"date\"})\n",
    "        return df\n",
    "\n",
    "    final_df = None\n",
    "    for condition in conditions:\n",
    "        condition_df = make_df(condition)\n",
    "        if final_df is None:\n",
    "            final_df = condition_df\n",
    "        else:\n",
    "            final_df = final_df.merge(condition_df)\n",
    "    return final_df"
   ]
  },
  {
   "cell_type": "code",
   "execution_count": 8,
   "metadata": {},
   "outputs": [],
   "source": [
    "country_df = make_country_df('Afghanistan')"
   ]
  },
  {
   "cell_type": "code",
   "execution_count": 9,
   "metadata": {},
   "outputs": [
    {
     "data": {
      "text/html": [
       "<div>\n",
       "<style scoped>\n",
       "    .dataframe tbody tr th:only-of-type {\n",
       "        vertical-align: middle;\n",
       "    }\n",
       "\n",
       "    .dataframe tbody tr th {\n",
       "        vertical-align: top;\n",
       "    }\n",
       "\n",
       "    .dataframe thead th {\n",
       "        text-align: right;\n",
       "    }\n",
       "</style>\n",
       "<table border=\"1\" class=\"dataframe\">\n",
       "  <thead>\n",
       "    <tr style=\"text-align: right;\">\n",
       "      <th></th>\n",
       "      <th>date</th>\n",
       "      <th>confirmed</th>\n",
       "      <th>deaths</th>\n",
       "      <th>recovered</th>\n",
       "    </tr>\n",
       "  </thead>\n",
       "  <tbody>\n",
       "    <tr>\n",
       "      <th>0</th>\n",
       "      <td>1/22/20</td>\n",
       "      <td>0</td>\n",
       "      <td>0</td>\n",
       "      <td>0</td>\n",
       "    </tr>\n",
       "    <tr>\n",
       "      <th>1</th>\n",
       "      <td>1/23/20</td>\n",
       "      <td>0</td>\n",
       "      <td>0</td>\n",
       "      <td>0</td>\n",
       "    </tr>\n",
       "    <tr>\n",
       "      <th>2</th>\n",
       "      <td>1/24/20</td>\n",
       "      <td>0</td>\n",
       "      <td>0</td>\n",
       "      <td>0</td>\n",
       "    </tr>\n",
       "    <tr>\n",
       "      <th>3</th>\n",
       "      <td>1/25/20</td>\n",
       "      <td>0</td>\n",
       "      <td>0</td>\n",
       "      <td>0</td>\n",
       "    </tr>\n",
       "    <tr>\n",
       "      <th>4</th>\n",
       "      <td>1/26/20</td>\n",
       "      <td>0</td>\n",
       "      <td>0</td>\n",
       "      <td>0</td>\n",
       "    </tr>\n",
       "    <tr>\n",
       "      <th>...</th>\n",
       "      <td>...</td>\n",
       "      <td>...</td>\n",
       "      <td>...</td>\n",
       "      <td>...</td>\n",
       "    </tr>\n",
       "    <tr>\n",
       "      <th>207</th>\n",
       "      <td>8/16/20</td>\n",
       "      <td>37596</td>\n",
       "      <td>37596</td>\n",
       "      <td>37596</td>\n",
       "    </tr>\n",
       "    <tr>\n",
       "      <th>208</th>\n",
       "      <td>8/17/20</td>\n",
       "      <td>37599</td>\n",
       "      <td>37599</td>\n",
       "      <td>37599</td>\n",
       "    </tr>\n",
       "    <tr>\n",
       "      <th>209</th>\n",
       "      <td>8/18/20</td>\n",
       "      <td>37599</td>\n",
       "      <td>37599</td>\n",
       "      <td>37599</td>\n",
       "    </tr>\n",
       "    <tr>\n",
       "      <th>210</th>\n",
       "      <td>8/19/20</td>\n",
       "      <td>37599</td>\n",
       "      <td>37599</td>\n",
       "      <td>37599</td>\n",
       "    </tr>\n",
       "    <tr>\n",
       "      <th>211</th>\n",
       "      <td>8/20/20</td>\n",
       "      <td>37856</td>\n",
       "      <td>37856</td>\n",
       "      <td>37856</td>\n",
       "    </tr>\n",
       "  </tbody>\n",
       "</table>\n",
       "<p>212 rows × 4 columns</p>\n",
       "</div>"
      ],
      "text/plain": [
       "        date  confirmed  deaths  recovered\n",
       "0    1/22/20          0       0          0\n",
       "1    1/23/20          0       0          0\n",
       "2    1/24/20          0       0          0\n",
       "3    1/25/20          0       0          0\n",
       "4    1/26/20          0       0          0\n",
       "..       ...        ...     ...        ...\n",
       "207  8/16/20      37596   37596      37596\n",
       "208  8/17/20      37599   37599      37599\n",
       "209  8/18/20      37599   37599      37599\n",
       "210  8/19/20      37599   37599      37599\n",
       "211  8/20/20      37856   37856      37856\n",
       "\n",
       "[212 rows x 4 columns]"
      ]
     },
     "execution_count": 9,
     "metadata": {},
     "output_type": "execute_result"
    }
   ],
   "source": [
    "country_df"
   ]
  },
  {
   "cell_type": "code",
   "execution_count": 10,
   "metadata": {},
   "outputs": [],
   "source": [
    "countries_df = daily_df[[\"Country_Region\", \"Confirmed\", \"Deaths\", \"Recovered\"]]\n",
    "countries_df = countries_df.groupby(\"Country_Region\").sum().reset_index() "
   ]
  },
  {
   "cell_type": "code",
   "execution_count": 11,
   "metadata": {},
   "outputs": [
    {
     "data": {
      "text/html": [
       "<div>\n",
       "<style scoped>\n",
       "    .dataframe tbody tr th:only-of-type {\n",
       "        vertical-align: middle;\n",
       "    }\n",
       "\n",
       "    .dataframe tbody tr th {\n",
       "        vertical-align: top;\n",
       "    }\n",
       "\n",
       "    .dataframe thead th {\n",
       "        text-align: right;\n",
       "    }\n",
       "</style>\n",
       "<table border=\"1\" class=\"dataframe\">\n",
       "  <thead>\n",
       "    <tr style=\"text-align: right;\">\n",
       "      <th></th>\n",
       "      <th>Country_Region</th>\n",
       "      <th>Confirmed</th>\n",
       "      <th>Deaths</th>\n",
       "      <th>Recovered</th>\n",
       "    </tr>\n",
       "  </thead>\n",
       "  <tbody>\n",
       "    <tr>\n",
       "      <th>0</th>\n",
       "      <td>Afghanistan</td>\n",
       "      <td>37856</td>\n",
       "      <td>1385</td>\n",
       "      <td>27681</td>\n",
       "    </tr>\n",
       "    <tr>\n",
       "      <th>1</th>\n",
       "      <td>Albania</td>\n",
       "      <td>7967</td>\n",
       "      <td>238</td>\n",
       "      <td>3986</td>\n",
       "    </tr>\n",
       "    <tr>\n",
       "      <th>2</th>\n",
       "      <td>Algeria</td>\n",
       "      <td>40258</td>\n",
       "      <td>1411</td>\n",
       "      <td>28281</td>\n",
       "    </tr>\n",
       "    <tr>\n",
       "      <th>3</th>\n",
       "      <td>Andorra</td>\n",
       "      <td>1024</td>\n",
       "      <td>53</td>\n",
       "      <td>875</td>\n",
       "    </tr>\n",
       "    <tr>\n",
       "      <th>4</th>\n",
       "      <td>Angola</td>\n",
       "      <td>2044</td>\n",
       "      <td>93</td>\n",
       "      <td>742</td>\n",
       "    </tr>\n",
       "    <tr>\n",
       "      <th>...</th>\n",
       "      <td>...</td>\n",
       "      <td>...</td>\n",
       "      <td>...</td>\n",
       "      <td>...</td>\n",
       "    </tr>\n",
       "    <tr>\n",
       "      <th>183</th>\n",
       "      <td>West Bank and Gaza</td>\n",
       "      <td>17989</td>\n",
       "      <td>120</td>\n",
       "      <td>10682</td>\n",
       "    </tr>\n",
       "    <tr>\n",
       "      <th>184</th>\n",
       "      <td>Western Sahara</td>\n",
       "      <td>10</td>\n",
       "      <td>1</td>\n",
       "      <td>8</td>\n",
       "    </tr>\n",
       "    <tr>\n",
       "      <th>185</th>\n",
       "      <td>Yemen</td>\n",
       "      <td>1899</td>\n",
       "      <td>541</td>\n",
       "      <td>1058</td>\n",
       "    </tr>\n",
       "    <tr>\n",
       "      <th>186</th>\n",
       "      <td>Zambia</td>\n",
       "      <td>10372</td>\n",
       "      <td>274</td>\n",
       "      <td>9126</td>\n",
       "    </tr>\n",
       "    <tr>\n",
       "      <th>187</th>\n",
       "      <td>Zimbabwe</td>\n",
       "      <td>5745</td>\n",
       "      <td>151</td>\n",
       "      <td>4525</td>\n",
       "    </tr>\n",
       "  </tbody>\n",
       "</table>\n",
       "<p>188 rows × 4 columns</p>\n",
       "</div>"
      ],
      "text/plain": [
       "         Country_Region  Confirmed  Deaths  Recovered\n",
       "0           Afghanistan      37856    1385      27681\n",
       "1               Albania       7967     238       3986\n",
       "2               Algeria      40258    1411      28281\n",
       "3               Andorra       1024      53        875\n",
       "4                Angola       2044      93        742\n",
       "..                  ...        ...     ...        ...\n",
       "183  West Bank and Gaza      17989     120      10682\n",
       "184      Western Sahara         10       1          8\n",
       "185               Yemen       1899     541       1058\n",
       "186              Zambia      10372     274       9126\n",
       "187            Zimbabwe       5745     151       4525\n",
       "\n",
       "[188 rows x 4 columns]"
      ]
     },
     "execution_count": 11,
     "metadata": {},
     "output_type": "execute_result"
    }
   ],
   "source": [
    "countries_df"
   ]
  },
  {
   "cell_type": "code",
   "execution_count": 12,
   "metadata": {},
   "outputs": [],
   "source": [
    "import plotly.express as px\n",
    "from data import countries_df\n"
   ]
  },
  {
   "cell_type": "code",
   "execution_count": 15,
   "metadata": {},
   "outputs": [
    {
     "data": {
      "application/vnd.plotly.v1+json": {
       "config": {
        "plotlyServerURL": "https://plot.ly"
       },
       "data": [
        {
         "customdata": [
          [
           5573847,
           174255,
           1947035,
           "US"
          ],
          [
           3501975,
           112304,
           2844318,
           "Brazil"
          ],
          [
           2905825,
           54849,
           2158946,
           "India"
          ],
          [
           939833,
           16058,
           753868,
           "Russia"
          ],
          [
           599940,
           12618,
           497169,
           "South Africa"
          ],
          [
           558420,
           26834,
           380730,
           "Peru"
          ],
          [
           543806,
           59106,
           442782,
           "Mexico"
          ],
          [
           513719,
           16183,
           339124,
           "Colombia"
          ],
          [
           391849,
           10671,
           366063,
           "Chile"
          ],
          [
           377906,
           28813,
           150376,
           "Spain"
          ],
          [
           352558,
           20264,
           304236,
           "Iran"
          ],
          [
           324203,
           41489,
           1544,
           "United Kingdom"
          ],
          [
           320884,
           6517,
           233651,
           "Argentina"
          ],
          [
           303973,
           3548,
           275476,
           "Saudi Arabia"
          ],
          [
           290958,
           6209,
           272804,
           "Pakistan"
          ],
          [
           287959,
           3822,
           168991,
           "Bangladesh"
          ],
          [
           256534,
           30434,
           84214,
           "France"
          ],
          [
           256118,
           35418,
           204686,
           "Italy"
          ],
          [
           254520,
           6058,
           234797,
           "Turkey"
          ],
          [
           231292,
           9263,
           205359,
           "Germany"
          ],
          [
           192797,
           6208,
           137200,
           "Iraq"
          ],
          [
           178022,
           2883,
           114114,
           "Philippines"
          ],
          [
           147211,
           6418,
           100674,
           "Indonesia"
          ],
          [
           125625,
           9097,
           111811,
           "Canada"
          ],
          [
           116224,
           193,
           112924,
           "Qatar"
          ],
          [
           106065,
           4305,
           41111,
           "Bolivia"
          ],
          [
           105508,
           6200,
           87660,
           "Ecuador"
          ],
          [
           104071,
           1415,
           87920,
           "Kazakhstan"
          ],
          [
           100810,
           2225,
           52086,
           "Ukraine"
          ],
          [
           99599,
           795,
           74579,
           "Israel"
          ],
          [
           97025,
           5212,
           63462,
           "Egypt"
          ],
          [
           89567,
           4709,
           83663,
           "China"
          ],
          [
           89010,
           1505,
           57734,
           "Dominican Republic"
          ],
          [
           85810,
           5805,
           0,
           "Sweden"
          ],
          [
           83855,
           1844,
           59174,
           "Panama"
          ],
          [
           83769,
           609,
           78386,
           "Oman"
          ],
          [
           80178,
           9976,
           18131,
           "Belgium"
          ],
          [
           78767,
           509,
           70642,
           "Kuwait"
          ],
          [
           74963,
           3154,
           34196,
           "Romania"
          ],
          [
           69950,
           627,
           67929,
           "Belarus"
          ],
          [
           66843,
           6215,
           461,
           "Netherlands"
          ],
          [
           65983,
           2506,
           54351,
           "Guatemala"
          ],
          [
           65802,
           369,
           58153,
           "United Arab Emirates"
          ],
          [
           59900,
           1157,
           45110,
           "Japan"
          ],
          [
           59378,
           1925,
           40481,
           "Poland"
          ],
          [
           56099,
           27,
           53119,
           "Singapore"
          ],
          [
           54992,
           1788,
           40264,
           "Portugal"
          ],
          [
           52819,
           1619,
           8082,
           "Honduras"
          ],
          [
           50964,
           992,
           37569,
           "Nigeria"
          ],
          [
           48303,
           179,
           44628,
           "Bahrain"
          ],
          [
           47638,
           775,
           32806,
           "Morocco"
          ],
          [
           43260,
           261,
           41276,
           "Ghana"
          ],
          [
           42507,
           1498,
           35486,
           "Kyrgyzstan"
          ],
          [
           42319,
           836,
           35476,
           "Armenia"
          ],
          [
           40258,
           1411,
           28281,
           "Algeria"
          ],
          [
           39026,
           1998,
           33900,
           "Switzerland"
          ],
          [
           37856,
           1385,
           27681,
           "Afghanistan"
          ],
          [
           37567,
           311,
           26330,
           "Venezuela"
          ],
          [
           37547,
           252,
           33261,
           "Uzbekistan"
          ],
          [
           35836,
           620,
           13536,
           "Ethiopia"
          ],
          [
           34759,
           510,
           32511,
           "Azerbaijan"
          ],
          [
           31937,
           921,
           21885,
           "Moldova"
          ],
          [
           31441,
           516,
           17869,
           "Kenya"
          ],
          [
           31075,
           333,
           9939,
           "Costa Rica"
          ],
          [
           30209,
           689,
           0,
           "Serbia"
          ],
          [
           29645,
           126,
           17964,
           "Nepal"
          ],
          [
           27676,
           1776,
           23364,
           "Ireland"
          ],
          [
           24431,
           729,
           21093,
           "Austria"
          ],
          [
           24407,
           472,
           17852,
           "Australia"
          ],
          [
           23964,
           640,
           11558,
           "El Salvador"
          ],
          [
           21045,
           406,
           15886,
           "Czechia"
          ],
          [
           18762,
           408,
           16540,
           "Cameroon"
          ],
          [
           17989,
           120,
           10682,
           "West Bank and Gaza"
          ],
          [
           17249,
           112,
           14611,
           "Cote d'Ivoire"
          ],
          [
           17029,
           515,
           10881,
           "Bosnia and Herzegovina"
          ],
          [
           16670,
           309,
           14120,
           "Korea, South"
          ],
          [
           16453,
           621,
           14057,
           "Denmark"
          ],
          [
           14962,
           532,
           10087,
           "Bulgaria"
          ],
          [
           14154,
           177,
           13038,
           "Madagascar"
          ],
          [
           13194,
           554,
           9752,
           "North Macedonia"
          ],
          [
           12582,
           812,
           6456,
           "Sudan"
          ],
          [
           12559,
           261,
           8050,
           "Senegal"
          ],
          [
           11817,
           170,
           6783,
           "Paraguay"
          ],
          [
           11545,
           390,
           7343,
           "Kosovo"
          ],
          [
           10952,
           113,
           3040,
           "Lebanon"
          ],
          [
           10372,
           274,
           9126,
           "Zambia"
          ],
          [
           10197,
           264,
           9150,
           "Norway"
          ],
          [
           9757,
           247,
           8895,
           "Congo (Kinshasa)"
          ],
          [
           9707,
           173,
           1047,
           "Libya"
          ],
          [
           9240,
           125,
           8932,
           "Malaysia"
          ],
          [
           8876,
           53,
           7628,
           "Guinea"
          ],
          [
           8319,
           53,
           6614,
           "Gabon"
          ],
          [
           8203,
           66,
           7006,
           "Tajikistan"
          ],
          [
           7997,
           196,
           5447,
           "Haiti"
          ],
          [
           7967,
           238,
           3986,
           "Albania"
          ],
          [
           7934,
           235,
           1347,
           "Greece"
          ],
          [
           7842,
           334,
           7100,
           "Finland"
          ],
          [
           7637,
           124,
           6903,
           "Luxembourg"
          ],
          [
           7329,
           168,
           5472,
           "Croatia"
          ],
          [
           6848,
           158,
           6123,
           "Mauritania"
          ],
          [
           6370,
           24,
           3915,
           "Maldives"
          ],
          [
           5745,
           151,
           4525,
           "Zimbabwe"
          ],
          [
           5374,
           59,
           5216,
           "Djibouti"
          ],
          [
           5282,
           165,
           2883,
           "Malawi"
          ],
          [
           5046,
           609,
           3678,
           "Hungary"
          ],
          [
           4912,
           41,
           2442,
           "Namibia"
          ],
          [
           4892,
           83,
           2713,
           "Equatorial Guinea"
          ],
          [
           4679,
           61,
           1755,
           "Central African Republic"
          ],
          [
           4311,
           133,
           2913,
           "Nicaragua"
          ],
          [
           4229,
           81,
           3186,
           "Montenegro"
          ],
          [
           4110,
           81,
           2643,
           "Eswatini"
          ],
          [
           3850,
           77,
           1625,
           "Congo (Brazzaville)"
          ],
          [
           3565,
           88,
           2894,
           "Cuba"
          ],
          [
           3389,
           58,
           3218,
           "Thailand"
          ],
          [
           3368,
           37,
           2462,
           "Cabo Verde"
          ],
          [
           3366,
           55,
           2383,
           "Suriname"
          ],
          [
           3265,
           93,
           2396,
           "Somalia"
          ],
          [
           3115,
           20,
           1380,
           "Mozambique"
          ],
          [
           3102,
           33,
           2014,
           "Slovakia"
          ],
          [
           2918,
           11,
           2765,
           "Sri Lanka"
          ],
          [
           2717,
           11,
           1705,
           "Rwanda"
          ],
          [
           2667,
           125,
           1993,
           "Mali"
          ],
          [
           2543,
           63,
           1397,
           "Tunisia"
          ],
          [
           2536,
           129,
           2079,
           "Slovenia"
          ],
          [
           2528,
           82,
           1747,
           "Lithuania"
          ],
          [
           2494,
           47,
           1290,
           "South Sudan"
          ],
          [
           2401,
           81,
           435,
           "Gambia"
          ],
          [
           2227,
           63,
           2009,
           "Estonia"
          ],
          [
           2149,
           33,
           1015,
           "Guinea-Bissau"
          ],
          [
           2095,
           39,
           1705,
           "Benin"
          ],
          [
           2044,
           93,
           742,
           "Angola"
          ],
          [
           2040,
           10,
           1913,
           "Iceland"
          ],
          [
           2008,
           82,
           460,
           "Syria"
          ],
          [
           1969,
           69,
           1536,
           "Sierra Leone"
          ],
          [
           1899,
           541,
           1058,
           "Yemen"
          ],
          [
           1750,
           19,
           1194,
           "Uganda"
          ],
          [
           1665,
           22,
           1538,
           "New Zealand"
          ],
          [
           1610,
           23,
           211,
           "Bahamas"
          ],
          [
           1510,
           9,
           802,
           "Malta"
          ],
          [
           1506,
           41,
           1242,
           "Uruguay"
          ],
          [
           1498,
           11,
           1261,
           "Jordan"
          ],
          [
           1395,
           20,
           878,
           "Cyprus"
          ],
          [
           1370,
           17,
           1108,
           "Georgia"
          ],
          [
           1327,
           33,
           1093,
           "Latvia"
          ],
          [
           1308,
           3,
           136,
           "Botswana"
          ],
          [
           1297,
           55,
           1034,
           "Burkina Faso"
          ],
          [
           1290,
           15,
           788,
           "Jamaica"
          ],
          [
           1284,
           82,
           803,
           "Liberia"
          ],
          [
           1212,
           27,
           878,
           "Togo"
          ],
          [
           1169,
           69,
           1082,
           "Niger"
          ],
          [
           1024,
           53,
           875,
           "Andorra"
          ],
          [
           1007,
           25,
           542,
           "Vietnam"
          ],
          [
           996,
           30,
           423,
           "Lesotho"
          ],
          [
           972,
           76,
           869,
           "Chad"
          ],
          [
           888,
           15,
           829,
           "Sao Tome and Principe"
          ],
          [
           846,
           29,
           399,
           "Guyana"
          ],
          [
           767,
           12,
           140,
           "Trinidad and Tobago"
          ],
          [
           712,
           13,
           651,
           "Diamond Princess"
          ],
          [
           704,
           42,
           657,
           "San Marino"
          ],
          [
           605,
           5,
           38,
           "Belize"
          ],
          [
           509,
           21,
           183,
           "Tanzania"
          ],
          [
           486,
           7,
           457,
           "Taiwan*"
          ],
          [
           422,
           1,
           336,
           "Burundi"
          ],
          [
           417,
           7,
           396,
           "Comoros"
          ],
          [
           399,
           6,
           333,
           "Burma"
          ],
          [
           361,
           4,
           198,
           "Papua New Guinea"
          ],
          [
           346,
           10,
           334,
           "Mauritius"
          ],
          [
           306,
           0,
           274,
           "Eritrea"
          ],
          [
           298,
           0,
           283,
           "Mongolia"
          ],
          [
           273,
           0,
           253,
           "Cambodia"
          ],
          [
           156,
           7,
           123,
           "Barbados"
          ],
          [
           153,
           0,
           108,
           "Bhutan"
          ],
          [
           150,
           4,
           115,
           "Monaco"
          ],
          [
           143,
           3,
           139,
           "Brunei"
          ],
          [
           132,
           0,
           126,
           "Seychelles"
          ],
          [
           99,
           1,
           88,
           "Liechtenstein"
          ],
          [
           94,
           3,
           89,
           "Antigua and Barbuda"
          ],
          [
           58,
           0,
           56,
           "Saint Vincent and the Grenadines"
          ],
          [
           28,
           1,
           20,
           "Fiji"
          ],
          [
           26,
           0,
           25,
           "Saint Lucia"
          ],
          [
           25,
           0,
           25,
           "Timor-Leste"
          ],
          [
           24,
           0,
           24,
           "Grenada"
          ],
          [
           22,
           0,
           19,
           "Laos"
          ],
          [
           18,
           0,
           18,
           "Dominica"
          ],
          [
           17,
           0,
           17,
           "Saint Kitts and Nevis"
          ],
          [
           12,
           0,
           12,
           "Holy See"
          ],
          [
           10,
           1,
           8,
           "Western Sahara"
          ],
          [
           9,
           2,
           0,
           "MS Zaandam"
          ]
         ],
         "geo": "geo",
         "hovertemplate": "<b>%{hovertext}</b><br><br>Confirmed=%{marker.color:,2f}<br>Deaths=%{customdata[1]:,2f}<br>Recovered=%{customdata[2]:,2f}<extra></extra>",
         "hovertext": [
          "US",
          "Brazil",
          "India",
          "Russia",
          "South Africa",
          "Peru",
          "Mexico",
          "Colombia",
          "Chile",
          "Spain",
          "Iran",
          "United Kingdom",
          "Argentina",
          "Saudi Arabia",
          "Pakistan",
          "Bangladesh",
          "France",
          "Italy",
          "Turkey",
          "Germany",
          "Iraq",
          "Philippines",
          "Indonesia",
          "Canada",
          "Qatar",
          "Bolivia",
          "Ecuador",
          "Kazakhstan",
          "Ukraine",
          "Israel",
          "Egypt",
          "China",
          "Dominican Republic",
          "Sweden",
          "Panama",
          "Oman",
          "Belgium",
          "Kuwait",
          "Romania",
          "Belarus",
          "Netherlands",
          "Guatemala",
          "United Arab Emirates",
          "Japan",
          "Poland",
          "Singapore",
          "Portugal",
          "Honduras",
          "Nigeria",
          "Bahrain",
          "Morocco",
          "Ghana",
          "Kyrgyzstan",
          "Armenia",
          "Algeria",
          "Switzerland",
          "Afghanistan",
          "Venezuela",
          "Uzbekistan",
          "Ethiopia",
          "Azerbaijan",
          "Moldova",
          "Kenya",
          "Costa Rica",
          "Serbia",
          "Nepal",
          "Ireland",
          "Austria",
          "Australia",
          "El Salvador",
          "Czechia",
          "Cameroon",
          "West Bank and Gaza",
          "Cote d'Ivoire",
          "Bosnia and Herzegovina",
          "Korea, South",
          "Denmark",
          "Bulgaria",
          "Madagascar",
          "North Macedonia",
          "Sudan",
          "Senegal",
          "Paraguay",
          "Kosovo",
          "Lebanon",
          "Zambia",
          "Norway",
          "Congo (Kinshasa)",
          "Libya",
          "Malaysia",
          "Guinea",
          "Gabon",
          "Tajikistan",
          "Haiti",
          "Albania",
          "Greece",
          "Finland",
          "Luxembourg",
          "Croatia",
          "Mauritania",
          "Maldives",
          "Zimbabwe",
          "Djibouti",
          "Malawi",
          "Hungary",
          "Namibia",
          "Equatorial Guinea",
          "Central African Republic",
          "Nicaragua",
          "Montenegro",
          "Eswatini",
          "Congo (Brazzaville)",
          "Cuba",
          "Thailand",
          "Cabo Verde",
          "Suriname",
          "Somalia",
          "Mozambique",
          "Slovakia",
          "Sri Lanka",
          "Rwanda",
          "Mali",
          "Tunisia",
          "Slovenia",
          "Lithuania",
          "South Sudan",
          "Gambia",
          "Estonia",
          "Guinea-Bissau",
          "Benin",
          "Angola",
          "Iceland",
          "Syria",
          "Sierra Leone",
          "Yemen",
          "Uganda",
          "New Zealand",
          "Bahamas",
          "Malta",
          "Uruguay",
          "Jordan",
          "Cyprus",
          "Georgia",
          "Latvia",
          "Botswana",
          "Burkina Faso",
          "Jamaica",
          "Liberia",
          "Togo",
          "Niger",
          "Andorra",
          "Vietnam",
          "Lesotho",
          "Chad",
          "Sao Tome and Principe",
          "Guyana",
          "Trinidad and Tobago",
          "Diamond Princess",
          "San Marino",
          "Belize",
          "Tanzania",
          "Taiwan*",
          "Burundi",
          "Comoros",
          "Burma",
          "Papua New Guinea",
          "Mauritius",
          "Eritrea",
          "Mongolia",
          "Cambodia",
          "Barbados",
          "Bhutan",
          "Monaco",
          "Brunei",
          "Seychelles",
          "Liechtenstein",
          "Antigua and Barbuda",
          "Saint Vincent and the Grenadines",
          "Fiji",
          "Saint Lucia",
          "Timor-Leste",
          "Grenada",
          "Laos",
          "Dominica",
          "Saint Kitts and Nevis",
          "Holy See",
          "Western Sahara",
          "MS Zaandam"
         ],
         "legendgroup": "",
         "locationmode": "country names",
         "locations": [
          "US",
          "Brazil",
          "India",
          "Russia",
          "South Africa",
          "Peru",
          "Mexico",
          "Colombia",
          "Chile",
          "Spain",
          "Iran",
          "United Kingdom",
          "Argentina",
          "Saudi Arabia",
          "Pakistan",
          "Bangladesh",
          "France",
          "Italy",
          "Turkey",
          "Germany",
          "Iraq",
          "Philippines",
          "Indonesia",
          "Canada",
          "Qatar",
          "Bolivia",
          "Ecuador",
          "Kazakhstan",
          "Ukraine",
          "Israel",
          "Egypt",
          "China",
          "Dominican Republic",
          "Sweden",
          "Panama",
          "Oman",
          "Belgium",
          "Kuwait",
          "Romania",
          "Belarus",
          "Netherlands",
          "Guatemala",
          "United Arab Emirates",
          "Japan",
          "Poland",
          "Singapore",
          "Portugal",
          "Honduras",
          "Nigeria",
          "Bahrain",
          "Morocco",
          "Ghana",
          "Kyrgyzstan",
          "Armenia",
          "Algeria",
          "Switzerland",
          "Afghanistan",
          "Venezuela",
          "Uzbekistan",
          "Ethiopia",
          "Azerbaijan",
          "Moldova",
          "Kenya",
          "Costa Rica",
          "Serbia",
          "Nepal",
          "Ireland",
          "Austria",
          "Australia",
          "El Salvador",
          "Czechia",
          "Cameroon",
          "West Bank and Gaza",
          "Cote d'Ivoire",
          "Bosnia and Herzegovina",
          "Korea, South",
          "Denmark",
          "Bulgaria",
          "Madagascar",
          "North Macedonia",
          "Sudan",
          "Senegal",
          "Paraguay",
          "Kosovo",
          "Lebanon",
          "Zambia",
          "Norway",
          "Congo (Kinshasa)",
          "Libya",
          "Malaysia",
          "Guinea",
          "Gabon",
          "Tajikistan",
          "Haiti",
          "Albania",
          "Greece",
          "Finland",
          "Luxembourg",
          "Croatia",
          "Mauritania",
          "Maldives",
          "Zimbabwe",
          "Djibouti",
          "Malawi",
          "Hungary",
          "Namibia",
          "Equatorial Guinea",
          "Central African Republic",
          "Nicaragua",
          "Montenegro",
          "Eswatini",
          "Congo (Brazzaville)",
          "Cuba",
          "Thailand",
          "Cabo Verde",
          "Suriname",
          "Somalia",
          "Mozambique",
          "Slovakia",
          "Sri Lanka",
          "Rwanda",
          "Mali",
          "Tunisia",
          "Slovenia",
          "Lithuania",
          "South Sudan",
          "Gambia",
          "Estonia",
          "Guinea-Bissau",
          "Benin",
          "Angola",
          "Iceland",
          "Syria",
          "Sierra Leone",
          "Yemen",
          "Uganda",
          "New Zealand",
          "Bahamas",
          "Malta",
          "Uruguay",
          "Jordan",
          "Cyprus",
          "Georgia",
          "Latvia",
          "Botswana",
          "Burkina Faso",
          "Jamaica",
          "Liberia",
          "Togo",
          "Niger",
          "Andorra",
          "Vietnam",
          "Lesotho",
          "Chad",
          "Sao Tome and Principe",
          "Guyana",
          "Trinidad and Tobago",
          "Diamond Princess",
          "San Marino",
          "Belize",
          "Tanzania",
          "Taiwan*",
          "Burundi",
          "Comoros",
          "Burma",
          "Papua New Guinea",
          "Mauritius",
          "Eritrea",
          "Mongolia",
          "Cambodia",
          "Barbados",
          "Bhutan",
          "Monaco",
          "Brunei",
          "Seychelles",
          "Liechtenstein",
          "Antigua and Barbuda",
          "Saint Vincent and the Grenadines",
          "Fiji",
          "Saint Lucia",
          "Timor-Leste",
          "Grenada",
          "Laos",
          "Dominica",
          "Saint Kitts and Nevis",
          "Holy See",
          "Western Sahara",
          "MS Zaandam"
         ],
         "marker": {
          "color": [
           5573847,
           3501975,
           2905825,
           939833,
           599940,
           558420,
           543806,
           513719,
           391849,
           377906,
           352558,
           324203,
           320884,
           303973,
           290958,
           287959,
           256534,
           256118,
           254520,
           231292,
           192797,
           178022,
           147211,
           125625,
           116224,
           106065,
           105508,
           104071,
           100810,
           99599,
           97025,
           89567,
           89010,
           85810,
           83855,
           83769,
           80178,
           78767,
           74963,
           69950,
           66843,
           65983,
           65802,
           59900,
           59378,
           56099,
           54992,
           52819,
           50964,
           48303,
           47638,
           43260,
           42507,
           42319,
           40258,
           39026,
           37856,
           37567,
           37547,
           35836,
           34759,
           31937,
           31441,
           31075,
           30209,
           29645,
           27676,
           24431,
           24407,
           23964,
           21045,
           18762,
           17989,
           17249,
           17029,
           16670,
           16453,
           14962,
           14154,
           13194,
           12582,
           12559,
           11817,
           11545,
           10952,
           10372,
           10197,
           9757,
           9707,
           9240,
           8876,
           8319,
           8203,
           7997,
           7967,
           7934,
           7842,
           7637,
           7329,
           6848,
           6370,
           5745,
           5374,
           5282,
           5046,
           4912,
           4892,
           4679,
           4311,
           4229,
           4110,
           3850,
           3565,
           3389,
           3368,
           3366,
           3265,
           3115,
           3102,
           2918,
           2717,
           2667,
           2543,
           2536,
           2528,
           2494,
           2401,
           2227,
           2149,
           2095,
           2044,
           2040,
           2008,
           1969,
           1899,
           1750,
           1665,
           1610,
           1510,
           1506,
           1498,
           1395,
           1370,
           1327,
           1308,
           1297,
           1290,
           1284,
           1212,
           1169,
           1024,
           1007,
           996,
           972,
           888,
           846,
           767,
           712,
           704,
           605,
           509,
           486,
           422,
           417,
           399,
           361,
           346,
           306,
           298,
           273,
           156,
           153,
           150,
           143,
           132,
           99,
           94,
           58,
           28,
           26,
           25,
           24,
           22,
           18,
           17,
           12,
           10,
           9
          ],
          "coloraxis": "coloraxis",
          "size": [
           5573847,
           3501975,
           2905825,
           939833,
           599940,
           558420,
           543806,
           513719,
           391849,
           377906,
           352558,
           324203,
           320884,
           303973,
           290958,
           287959,
           256534,
           256118,
           254520,
           231292,
           192797,
           178022,
           147211,
           125625,
           116224,
           106065,
           105508,
           104071,
           100810,
           99599,
           97025,
           89567,
           89010,
           85810,
           83855,
           83769,
           80178,
           78767,
           74963,
           69950,
           66843,
           65983,
           65802,
           59900,
           59378,
           56099,
           54992,
           52819,
           50964,
           48303,
           47638,
           43260,
           42507,
           42319,
           40258,
           39026,
           37856,
           37567,
           37547,
           35836,
           34759,
           31937,
           31441,
           31075,
           30209,
           29645,
           27676,
           24431,
           24407,
           23964,
           21045,
           18762,
           17989,
           17249,
           17029,
           16670,
           16453,
           14962,
           14154,
           13194,
           12582,
           12559,
           11817,
           11545,
           10952,
           10372,
           10197,
           9757,
           9707,
           9240,
           8876,
           8319,
           8203,
           7997,
           7967,
           7934,
           7842,
           7637,
           7329,
           6848,
           6370,
           5745,
           5374,
           5282,
           5046,
           4912,
           4892,
           4679,
           4311,
           4229,
           4110,
           3850,
           3565,
           3389,
           3368,
           3366,
           3265,
           3115,
           3102,
           2918,
           2717,
           2667,
           2543,
           2536,
           2528,
           2494,
           2401,
           2227,
           2149,
           2095,
           2044,
           2040,
           2008,
           1969,
           1899,
           1750,
           1665,
           1610,
           1510,
           1506,
           1498,
           1395,
           1370,
           1327,
           1308,
           1297,
           1290,
           1284,
           1212,
           1169,
           1024,
           1007,
           996,
           972,
           888,
           846,
           767,
           712,
           704,
           605,
           509,
           486,
           422,
           417,
           399,
           361,
           346,
           306,
           298,
           273,
           156,
           153,
           150,
           143,
           132,
           99,
           94,
           58,
           28,
           26,
           25,
           24,
           22,
           18,
           17,
           12,
           10,
           9
          ],
          "sizemode": "area",
          "sizeref": 6193.163333333333,
          "symbol": "circle"
         },
         "mode": "markers",
         "name": "",
         "showlegend": false,
         "type": "scattergeo"
        }
       ],
       "layout": {
        "autosize": true,
        "coloraxis": {
         "colorbar": {
          "title": {
           "text": "Confirmed"
          }
         },
         "colorscale": [
          [
           0,
           "#0d0887"
          ],
          [
           0.1111111111111111,
           "#46039f"
          ],
          [
           0.2222222222222222,
           "#7201a8"
          ],
          [
           0.3333333333333333,
           "#9c179e"
          ],
          [
           0.4444444444444444,
           "#bd3786"
          ],
          [
           0.5555555555555556,
           "#d8576b"
          ],
          [
           0.6666666666666666,
           "#ed7953"
          ],
          [
           0.7777777777777778,
           "#fb9f3a"
          ],
          [
           0.8888888888888888,
           "#fdca26"
          ],
          [
           1,
           "#f0f921"
          ]
         ]
        },
        "geo": {
         "center": {},
         "domain": {
          "x": [
           0,
           1
          ],
          "y": [
           0,
           1
          ]
         },
         "projection": {
          "rotation": {
           "lat": 20.980171569092345,
           "lon": -43.29751745478996
          },
          "type": "orthographic"
         }
        },
        "legend": {
         "itemsizing": "constant",
         "tracegroupgap": 0
        },
        "margin": {
         "t": 60
        },
        "template": {
         "data": {
          "bar": [
           {
            "error_x": {
             "color": "#f2f5fa"
            },
            "error_y": {
             "color": "#f2f5fa"
            },
            "marker": {
             "line": {
              "color": "rgb(17,17,17)",
              "width": 0.5
             }
            },
            "type": "bar"
           }
          ],
          "barpolar": [
           {
            "marker": {
             "line": {
              "color": "rgb(17,17,17)",
              "width": 0.5
             }
            },
            "type": "barpolar"
           }
          ],
          "carpet": [
           {
            "aaxis": {
             "endlinecolor": "#A2B1C6",
             "gridcolor": "#506784",
             "linecolor": "#506784",
             "minorgridcolor": "#506784",
             "startlinecolor": "#A2B1C6"
            },
            "baxis": {
             "endlinecolor": "#A2B1C6",
             "gridcolor": "#506784",
             "linecolor": "#506784",
             "minorgridcolor": "#506784",
             "startlinecolor": "#A2B1C6"
            },
            "type": "carpet"
           }
          ],
          "choropleth": [
           {
            "colorbar": {
             "outlinewidth": 0,
             "ticks": ""
            },
            "type": "choropleth"
           }
          ],
          "contour": [
           {
            "colorbar": {
             "outlinewidth": 0,
             "ticks": ""
            },
            "colorscale": [
             [
              0,
              "#0d0887"
             ],
             [
              0.1111111111111111,
              "#46039f"
             ],
             [
              0.2222222222222222,
              "#7201a8"
             ],
             [
              0.3333333333333333,
              "#9c179e"
             ],
             [
              0.4444444444444444,
              "#bd3786"
             ],
             [
              0.5555555555555556,
              "#d8576b"
             ],
             [
              0.6666666666666666,
              "#ed7953"
             ],
             [
              0.7777777777777778,
              "#fb9f3a"
             ],
             [
              0.8888888888888888,
              "#fdca26"
             ],
             [
              1,
              "#f0f921"
             ]
            ],
            "type": "contour"
           }
          ],
          "contourcarpet": [
           {
            "colorbar": {
             "outlinewidth": 0,
             "ticks": ""
            },
            "type": "contourcarpet"
           }
          ],
          "heatmap": [
           {
            "colorbar": {
             "outlinewidth": 0,
             "ticks": ""
            },
            "colorscale": [
             [
              0,
              "#0d0887"
             ],
             [
              0.1111111111111111,
              "#46039f"
             ],
             [
              0.2222222222222222,
              "#7201a8"
             ],
             [
              0.3333333333333333,
              "#9c179e"
             ],
             [
              0.4444444444444444,
              "#bd3786"
             ],
             [
              0.5555555555555556,
              "#d8576b"
             ],
             [
              0.6666666666666666,
              "#ed7953"
             ],
             [
              0.7777777777777778,
              "#fb9f3a"
             ],
             [
              0.8888888888888888,
              "#fdca26"
             ],
             [
              1,
              "#f0f921"
             ]
            ],
            "type": "heatmap"
           }
          ],
          "heatmapgl": [
           {
            "colorbar": {
             "outlinewidth": 0,
             "ticks": ""
            },
            "colorscale": [
             [
              0,
              "#0d0887"
             ],
             [
              0.1111111111111111,
              "#46039f"
             ],
             [
              0.2222222222222222,
              "#7201a8"
             ],
             [
              0.3333333333333333,
              "#9c179e"
             ],
             [
              0.4444444444444444,
              "#bd3786"
             ],
             [
              0.5555555555555556,
              "#d8576b"
             ],
             [
              0.6666666666666666,
              "#ed7953"
             ],
             [
              0.7777777777777778,
              "#fb9f3a"
             ],
             [
              0.8888888888888888,
              "#fdca26"
             ],
             [
              1,
              "#f0f921"
             ]
            ],
            "type": "heatmapgl"
           }
          ],
          "histogram": [
           {
            "marker": {
             "colorbar": {
              "outlinewidth": 0,
              "ticks": ""
             }
            },
            "type": "histogram"
           }
          ],
          "histogram2d": [
           {
            "colorbar": {
             "outlinewidth": 0,
             "ticks": ""
            },
            "colorscale": [
             [
              0,
              "#0d0887"
             ],
             [
              0.1111111111111111,
              "#46039f"
             ],
             [
              0.2222222222222222,
              "#7201a8"
             ],
             [
              0.3333333333333333,
              "#9c179e"
             ],
             [
              0.4444444444444444,
              "#bd3786"
             ],
             [
              0.5555555555555556,
              "#d8576b"
             ],
             [
              0.6666666666666666,
              "#ed7953"
             ],
             [
              0.7777777777777778,
              "#fb9f3a"
             ],
             [
              0.8888888888888888,
              "#fdca26"
             ],
             [
              1,
              "#f0f921"
             ]
            ],
            "type": "histogram2d"
           }
          ],
          "histogram2dcontour": [
           {
            "colorbar": {
             "outlinewidth": 0,
             "ticks": ""
            },
            "colorscale": [
             [
              0,
              "#0d0887"
             ],
             [
              0.1111111111111111,
              "#46039f"
             ],
             [
              0.2222222222222222,
              "#7201a8"
             ],
             [
              0.3333333333333333,
              "#9c179e"
             ],
             [
              0.4444444444444444,
              "#bd3786"
             ],
             [
              0.5555555555555556,
              "#d8576b"
             ],
             [
              0.6666666666666666,
              "#ed7953"
             ],
             [
              0.7777777777777778,
              "#fb9f3a"
             ],
             [
              0.8888888888888888,
              "#fdca26"
             ],
             [
              1,
              "#f0f921"
             ]
            ],
            "type": "histogram2dcontour"
           }
          ],
          "mesh3d": [
           {
            "colorbar": {
             "outlinewidth": 0,
             "ticks": ""
            },
            "type": "mesh3d"
           }
          ],
          "parcoords": [
           {
            "line": {
             "colorbar": {
              "outlinewidth": 0,
              "ticks": ""
             }
            },
            "type": "parcoords"
           }
          ],
          "pie": [
           {
            "automargin": true,
            "type": "pie"
           }
          ],
          "scatter": [
           {
            "marker": {
             "line": {
              "color": "#283442"
             }
            },
            "type": "scatter"
           }
          ],
          "scatter3d": [
           {
            "line": {
             "colorbar": {
              "outlinewidth": 0,
              "ticks": ""
             }
            },
            "marker": {
             "colorbar": {
              "outlinewidth": 0,
              "ticks": ""
             }
            },
            "type": "scatter3d"
           }
          ],
          "scattercarpet": [
           {
            "marker": {
             "colorbar": {
              "outlinewidth": 0,
              "ticks": ""
             }
            },
            "type": "scattercarpet"
           }
          ],
          "scattergeo": [
           {
            "marker": {
             "colorbar": {
              "outlinewidth": 0,
              "ticks": ""
             }
            },
            "type": "scattergeo"
           }
          ],
          "scattergl": [
           {
            "marker": {
             "line": {
              "color": "#283442"
             }
            },
            "type": "scattergl"
           }
          ],
          "scattermapbox": [
           {
            "marker": {
             "colorbar": {
              "outlinewidth": 0,
              "ticks": ""
             }
            },
            "type": "scattermapbox"
           }
          ],
          "scatterpolar": [
           {
            "marker": {
             "colorbar": {
              "outlinewidth": 0,
              "ticks": ""
             }
            },
            "type": "scatterpolar"
           }
          ],
          "scatterpolargl": [
           {
            "marker": {
             "colorbar": {
              "outlinewidth": 0,
              "ticks": ""
             }
            },
            "type": "scatterpolargl"
           }
          ],
          "scatterternary": [
           {
            "marker": {
             "colorbar": {
              "outlinewidth": 0,
              "ticks": ""
             }
            },
            "type": "scatterternary"
           }
          ],
          "surface": [
           {
            "colorbar": {
             "outlinewidth": 0,
             "ticks": ""
            },
            "colorscale": [
             [
              0,
              "#0d0887"
             ],
             [
              0.1111111111111111,
              "#46039f"
             ],
             [
              0.2222222222222222,
              "#7201a8"
             ],
             [
              0.3333333333333333,
              "#9c179e"
             ],
             [
              0.4444444444444444,
              "#bd3786"
             ],
             [
              0.5555555555555556,
              "#d8576b"
             ],
             [
              0.6666666666666666,
              "#ed7953"
             ],
             [
              0.7777777777777778,
              "#fb9f3a"
             ],
             [
              0.8888888888888888,
              "#fdca26"
             ],
             [
              1,
              "#f0f921"
             ]
            ],
            "type": "surface"
           }
          ],
          "table": [
           {
            "cells": {
             "fill": {
              "color": "#506784"
             },
             "line": {
              "color": "rgb(17,17,17)"
             }
            },
            "header": {
             "fill": {
              "color": "#2a3f5f"
             },
             "line": {
              "color": "rgb(17,17,17)"
             }
            },
            "type": "table"
           }
          ]
         },
         "layout": {
          "annotationdefaults": {
           "arrowcolor": "#f2f5fa",
           "arrowhead": 0,
           "arrowwidth": 1
          },
          "autotypenumbers": "strict",
          "coloraxis": {
           "colorbar": {
            "outlinewidth": 0,
            "ticks": ""
           }
          },
          "colorscale": {
           "diverging": [
            [
             0,
             "#8e0152"
            ],
            [
             0.1,
             "#c51b7d"
            ],
            [
             0.2,
             "#de77ae"
            ],
            [
             0.3,
             "#f1b6da"
            ],
            [
             0.4,
             "#fde0ef"
            ],
            [
             0.5,
             "#f7f7f7"
            ],
            [
             0.6,
             "#e6f5d0"
            ],
            [
             0.7,
             "#b8e186"
            ],
            [
             0.8,
             "#7fbc41"
            ],
            [
             0.9,
             "#4d9221"
            ],
            [
             1,
             "#276419"
            ]
           ],
           "sequential": [
            [
             0,
             "#0d0887"
            ],
            [
             0.1111111111111111,
             "#46039f"
            ],
            [
             0.2222222222222222,
             "#7201a8"
            ],
            [
             0.3333333333333333,
             "#9c179e"
            ],
            [
             0.4444444444444444,
             "#bd3786"
            ],
            [
             0.5555555555555556,
             "#d8576b"
            ],
            [
             0.6666666666666666,
             "#ed7953"
            ],
            [
             0.7777777777777778,
             "#fb9f3a"
            ],
            [
             0.8888888888888888,
             "#fdca26"
            ],
            [
             1,
             "#f0f921"
            ]
           ],
           "sequentialminus": [
            [
             0,
             "#0d0887"
            ],
            [
             0.1111111111111111,
             "#46039f"
            ],
            [
             0.2222222222222222,
             "#7201a8"
            ],
            [
             0.3333333333333333,
             "#9c179e"
            ],
            [
             0.4444444444444444,
             "#bd3786"
            ],
            [
             0.5555555555555556,
             "#d8576b"
            ],
            [
             0.6666666666666666,
             "#ed7953"
            ],
            [
             0.7777777777777778,
             "#fb9f3a"
            ],
            [
             0.8888888888888888,
             "#fdca26"
            ],
            [
             1,
             "#f0f921"
            ]
           ]
          },
          "colorway": [
           "#636efa",
           "#EF553B",
           "#00cc96",
           "#ab63fa",
           "#FFA15A",
           "#19d3f3",
           "#FF6692",
           "#B6E880",
           "#FF97FF",
           "#FECB52"
          ],
          "font": {
           "color": "#f2f5fa"
          },
          "geo": {
           "bgcolor": "rgb(17,17,17)",
           "lakecolor": "rgb(17,17,17)",
           "landcolor": "rgb(17,17,17)",
           "showlakes": true,
           "showland": true,
           "subunitcolor": "#506784"
          },
          "hoverlabel": {
           "align": "left"
          },
          "hovermode": "closest",
          "mapbox": {
           "style": "dark"
          },
          "paper_bgcolor": "rgb(17,17,17)",
          "plot_bgcolor": "rgb(17,17,17)",
          "polar": {
           "angularaxis": {
            "gridcolor": "#506784",
            "linecolor": "#506784",
            "ticks": ""
           },
           "bgcolor": "rgb(17,17,17)",
           "radialaxis": {
            "gridcolor": "#506784",
            "linecolor": "#506784",
            "ticks": ""
           }
          },
          "scene": {
           "xaxis": {
            "backgroundcolor": "rgb(17,17,17)",
            "gridcolor": "#506784",
            "gridwidth": 2,
            "linecolor": "#506784",
            "showbackground": true,
            "ticks": "",
            "zerolinecolor": "#C8D4E3"
           },
           "yaxis": {
            "backgroundcolor": "rgb(17,17,17)",
            "gridcolor": "#506784",
            "gridwidth": 2,
            "linecolor": "#506784",
            "showbackground": true,
            "ticks": "",
            "zerolinecolor": "#C8D4E3"
           },
           "zaxis": {
            "backgroundcolor": "rgb(17,17,17)",
            "gridcolor": "#506784",
            "gridwidth": 2,
            "linecolor": "#506784",
            "showbackground": true,
            "ticks": "",
            "zerolinecolor": "#C8D4E3"
           }
          },
          "shapedefaults": {
           "line": {
            "color": "#f2f5fa"
           }
          },
          "sliderdefaults": {
           "bgcolor": "#C8D4E3",
           "bordercolor": "rgb(17,17,17)",
           "borderwidth": 1,
           "tickwidth": 0
          },
          "ternary": {
           "aaxis": {
            "gridcolor": "#506784",
            "linecolor": "#506784",
            "ticks": ""
           },
           "baxis": {
            "gridcolor": "#506784",
            "linecolor": "#506784",
            "ticks": ""
           },
           "bgcolor": "rgb(17,17,17)",
           "caxis": {
            "gridcolor": "#506784",
            "linecolor": "#506784",
            "ticks": ""
           }
          },
          "title": {
           "x": 0.05
          },
          "updatemenudefaults": {
           "bgcolor": "#506784",
           "borderwidth": 0
          },
          "xaxis": {
           "automargin": true,
           "gridcolor": "#283442",
           "linecolor": "#506784",
           "ticks": "",
           "title": {
            "standoff": 15
           },
           "zerolinecolor": "#283442",
           "zerolinewidth": 2
          },
          "yaxis": {
           "automargin": true,
           "gridcolor": "#283442",
           "linecolor": "#506784",
           "ticks": "",
           "title": {
            "standoff": 15
           },
           "zerolinecolor": "#283442",
           "zerolinewidth": 2
          }
         }
        }
       }
      },
      "image/png": "[encoded data removed]",
      "text/html": [
       "<div>                            <div id=\"6b38ea9b-c55f-43d2-8866-390843afc396\" class=\"plotly-graph-div\" style=\"height:525px; width:100%;\"></div>            <script type=\"text/javascript\">                require([\"plotly\"], function(Plotly) {                    window.PLOTLYENV=window.PLOTLYENV || {};                                    if (document.getElementById(\"6b38ea9b-c55f-43d2-8866-390843afc396\")) {                    Plotly.newPlot(                        \"6b38ea9b-c55f-43d2-8866-390843afc396\",                        [{\"customdata\": [[5573847, 174255, 1947035, \"US\"], [3501975, 112304, 2844318, \"Brazil\"], [2905825, 54849, 2158946, \"India\"], [939833, 16058, 753868, \"Russia\"], [599940, 12618, 497169, \"South Africa\"], [558420, 26834, 380730, \"Peru\"], [543806, 59106, 442782, \"Mexico\"], [513719, 16183, 339124, \"Colombia\"], [391849, 10671, 366063, \"Chile\"], [377906, 28813, 150376, \"Spain\"], [352558, 20264, 304236, \"Iran\"], [324203, 41489, 1544, \"United Kingdom\"], [320884, 6517, 233651, \"Argentina\"], [303973, 3548, 275476, \"Saudi Arabia\"], [290958, 6209, 272804, \"Pakistan\"], [287959, 3822, 168991, \"Bangladesh\"], [256534, 30434, 84214, \"France\"], [256118, 35418, 204686, \"Italy\"], [254520, 6058, 234797, \"Turkey\"], [231292, 9263, 205359, \"Germany\"], [192797, 6208, 137200, \"Iraq\"], [178022, 2883, 114114, \"Philippines\"], [147211, 6418, 100674, \"Indonesia\"], [125625, 9097, 111811, \"Canada\"], [116224, 193, 112924, \"Qatar\"], [106065, 4305, 41111, \"Bolivia\"], [105508, 6200, 87660, \"Ecuador\"], [104071, 1415, 87920, \"Kazakhstan\"], [100810, 2225, 52086, \"Ukraine\"], [99599, 795, 74579, \"Israel\"], [97025, 5212, 63462, \"Egypt\"], [89567, 4709, 83663, \"China\"], [89010, 1505, 57734, \"Dominican Republic\"], [85810, 5805, 0, \"Sweden\"], [83855, 1844, 59174, \"Panama\"], [83769, 609, 78386, \"Oman\"], [80178, 9976, 18131, \"Belgium\"], [78767, 509, 70642, \"Kuwait\"], [74963, 3154, 34196, \"Romania\"], [69950, 627, 67929, \"Belarus\"], [66843, 6215, 461, \"Netherlands\"], [65983, 2506, 54351, \"Guatemala\"], [65802, 369, 58153, \"United Arab Emirates\"], [59900, 1157, 45110, \"Japan\"], [59378, 1925, 40481, \"Poland\"], [56099, 27, 53119, \"Singapore\"], [54992, 1788, 40264, \"Portugal\"], [52819, 1619, 8082, \"Honduras\"], [50964, 992, 37569, \"Nigeria\"], [48303, 179, 44628, \"Bahrain\"], [47638, 775, 32806, \"Morocco\"], [43260, 261, 41276, \"Ghana\"], [42507, 1498, 35486, \"Kyrgyzstan\"], [42319, 836, 35476, \"Armenia\"], [40258, 1411, 28281, \"Algeria\"], [39026, 1998, 33900, \"Switzerland\"], [37856, 1385, 27681, \"Afghanistan\"], [37567, 311, 26330, \"Venezuela\"], [37547, 252, 33261, \"Uzbekistan\"], [35836, 620, 13536, \"Ethiopia\"], [34759, 510, 32511, \"Azerbaijan\"], [31937, 921, 21885, \"Moldova\"], [31441, 516, 17869, \"Kenya\"], [31075, 333, 9939, \"Costa Rica\"], [30209, 689, 0, \"Serbia\"], [29645, 126, 17964, \"Nepal\"], [27676, 1776, 23364, \"Ireland\"], [24431, 729, 21093, \"Austria\"], [24407, 472, 17852, \"Australia\"], [23964, 640, 11558, \"El Salvador\"], [21045, 406, 15886, \"Czechia\"], [18762, 408, 16540, \"Cameroon\"], [17989, 120, 10682, \"West Bank and Gaza\"], [17249, 112, 14611, \"Cote d'Ivoire\"], [17029, 515, 10881, \"Bosnia and Herzegovina\"], [16670, 309, 14120, \"Korea, South\"], [16453, 621, 14057, \"Denmark\"], [14962, 532, 10087, \"Bulgaria\"], [14154, 177, 13038, \"Madagascar\"], [13194, 554, 9752, \"North Macedonia\"], [12582, 812, 6456, \"Sudan\"], [12559, 261, 8050, \"Senegal\"], [11817, 170, 6783, \"Paraguay\"], [11545, 390, 7343, \"Kosovo\"], [10952, 113, 3040, \"Lebanon\"], [10372, 274, 9126, \"Zambia\"], [10197, 264, 9150, \"Norway\"], [9757, 247, 8895, \"Congo (Kinshasa)\"], [9707, 173, 1047, \"Libya\"], [9240, 125, 8932, \"Malaysia\"], [8876, 53, 7628, \"Guinea\"], [8319, 53, 6614, \"Gabon\"], [8203, 66, 7006, \"Tajikistan\"], [7997, 196, 5447, \"Haiti\"], [7967, 238, 3986, \"Albania\"], [7934, 235, 1347, \"Greece\"], [7842, 334, 7100, \"Finland\"], [7637, 124, 6903, \"Luxembourg\"], [7329, 168, 5472, \"Croatia\"], [6848, 158, 6123, \"Mauritania\"], [6370, 24, 3915, \"Maldives\"], [5745, 151, 4525, \"Zimbabwe\"], [5374, 59, 5216, \"Djibouti\"], [5282, 165, 2883, \"Malawi\"], [5046, 609, 3678, \"Hungary\"], [4912, 41, 2442, \"Namibia\"], [4892, 83, 2713, \"Equatorial Guinea\"], [4679, 61, 1755, \"Central African Republic\"], [4311, 133, 2913, \"Nicaragua\"], [4229, 81, 3186, \"Montenegro\"], [4110, 81, 2643, \"Eswatini\"], [3850, 77, 1625, \"Congo (Brazzaville)\"], [3565, 88, 2894, \"Cuba\"], [3389, 58, 3218, \"Thailand\"], [3368, 37, 2462, \"Cabo Verde\"], [3366, 55, 2383, \"Suriname\"], [3265, 93, 2396, \"Somalia\"], [3115, 20, 1380, \"Mozambique\"], [3102, 33, 2014, \"Slovakia\"], [2918, 11, 2765, \"Sri Lanka\"], [2717, 11, 1705, \"Rwanda\"], [2667, 125, 1993, \"Mali\"], [2543, 63, 1397, \"Tunisia\"], [2536, 129, 2079, \"Slovenia\"], [2528, 82, 1747, \"Lithuania\"], [2494, 47, 1290, \"South Sudan\"], [2401, 81, 435, \"Gambia\"], [2227, 63, 2009, \"Estonia\"], [2149, 33, 1015, \"Guinea-Bissau\"], [2095, 39, 1705, \"Benin\"], [2044, 93, 742, \"Angola\"], [2040, 10, 1913, \"Iceland\"], [2008, 82, 460, \"Syria\"], [1969, 69, 1536, \"Sierra Leone\"], [1899, 541, 1058, \"Yemen\"], [1750, 19, 1194, \"Uganda\"], [1665, 22, 1538, \"New Zealand\"], [1610, 23, 211, \"Bahamas\"], [1510, 9, 802, \"Malta\"], [1506, 41, 1242, \"Uruguay\"], [1498, 11, 1261, \"Jordan\"], [1395, 20, 878, \"Cyprus\"], [1370, 17, 1108, \"Georgia\"], [1327, 33, 1093, \"Latvia\"], [1308, 3, 136, \"Botswana\"], [1297, 55, 1034, \"Burkina Faso\"], [1290, 15, 788, \"Jamaica\"], [1284, 82, 803, \"Liberia\"], [1212, 27, 878, \"Togo\"], [1169, 69, 1082, \"Niger\"], [1024, 53, 875, \"Andorra\"], [1007, 25, 542, \"Vietnam\"], [996, 30, 423, \"Lesotho\"], [972, 76, 869, \"Chad\"], [888, 15, 829, \"Sao Tome and Principe\"], [846, 29, 399, \"Guyana\"], [767, 12, 140, \"Trinidad and Tobago\"], [712, 13, 651, \"Diamond Princess\"], [704, 42, 657, \"San Marino\"], [605, 5, 38, \"Belize\"], [509, 21, 183, \"Tanzania\"], [486, 7, 457, \"Taiwan*\"], [422, 1, 336, \"Burundi\"], [417, 7, 396, \"Comoros\"], [399, 6, 333, \"Burma\"], [361, 4, 198, \"Papua New Guinea\"], [346, 10, 334, \"Mauritius\"], [306, 0, 274, \"Eritrea\"], [298, 0, 283, \"Mongolia\"], [273, 0, 253, \"Cambodia\"], [156, 7, 123, \"Barbados\"], [153, 0, 108, \"Bhutan\"], [150, 4, 115, \"Monaco\"], [143, 3, 139, \"Brunei\"], [132, 0, 126, \"Seychelles\"], [99, 1, 88, \"Liechtenstein\"], [94, 3, 89, \"Antigua and Barbuda\"], [58, 0, 56, \"Saint Vincent and the Grenadines\"], [28, 1, 20, \"Fiji\"], [26, 0, 25, \"Saint Lucia\"], [25, 0, 25, \"Timor-Leste\"], [24, 0, 24, \"Grenada\"], [22, 0, 19, \"Laos\"], [18, 0, 18, \"Dominica\"], [17, 0, 17, \"Saint Kitts and Nevis\"], [12, 0, 12, \"Holy See\"], [10, 1, 8, \"Western Sahara\"], [9, 2, 0, \"MS Zaandam\"]], \"geo\": \"geo\", \"hovertemplate\": \"<b>%{hovertext}</b><br><br>Confirmed=%{marker.color:,2f}<br>Deaths=%{customdata[1]:,2f}<br>Recovered=%{customdata[2]:,2f}<extra></extra>\", \"hovertext\": [\"US\", \"Brazil\", \"India\", \"Russia\", \"South Africa\", \"Peru\", \"Mexico\", \"Colombia\", \"Chile\", \"Spain\", \"Iran\", \"United Kingdom\", \"Argentina\", \"Saudi Arabia\", \"Pakistan\", \"Bangladesh\", \"France\", \"Italy\", \"Turkey\", \"Germany\", \"Iraq\", \"Philippines\", \"Indonesia\", \"Canada\", \"Qatar\", \"Bolivia\", \"Ecuador\", \"Kazakhstan\", \"Ukraine\", \"Israel\", \"Egypt\", \"China\", \"Dominican Republic\", \"Sweden\", \"Panama\", \"Oman\", \"Belgium\", \"Kuwait\", \"Romania\", \"Belarus\", \"Netherlands\", \"Guatemala\", \"United Arab Emirates\", \"Japan\", \"Poland\", \"Singapore\", \"Portugal\", \"Honduras\", \"Nigeria\", \"Bahrain\", \"Morocco\", \"Ghana\", \"Kyrgyzstan\", \"Armenia\", \"Algeria\", \"Switzerland\", \"Afghanistan\", \"Venezuela\", \"Uzbekistan\", \"Ethiopia\", \"Azerbaijan\", \"Moldova\", \"Kenya\", \"Costa Rica\", \"Serbia\", \"Nepal\", \"Ireland\", \"Austria\", \"Australia\", \"El Salvador\", \"Czechia\", \"Cameroon\", \"West Bank and Gaza\", \"Cote d'Ivoire\", \"Bosnia and Herzegovina\", \"Korea, South\", \"Denmark\", \"Bulgaria\", \"Madagascar\", \"North Macedonia\", \"Sudan\", \"Senegal\", \"Paraguay\", \"Kosovo\", \"Lebanon\", \"Zambia\", \"Norway\", \"Congo (Kinshasa)\", \"Libya\", \"Malaysia\", \"Guinea\", \"Gabon\", \"Tajikistan\", \"Haiti\", \"Albania\", \"Greece\", \"Finland\", \"Luxembourg\", \"Croatia\", \"Mauritania\", \"Maldives\", \"Zimbabwe\", \"Djibouti\", \"Malawi\", \"Hungary\", \"Namibia\", \"Equatorial Guinea\", \"Central African Republic\", \"Nicaragua\", \"Montenegro\", \"Eswatini\", \"Congo (Brazzaville)\", \"Cuba\", \"Thailand\", \"Cabo Verde\", \"Suriname\", \"Somalia\", \"Mozambique\", \"Slovakia\", \"Sri Lanka\", \"Rwanda\", \"Mali\", \"Tunisia\", \"Slovenia\", \"Lithuania\", \"South Sudan\", \"Gambia\", \"Estonia\", \"Guinea-Bissau\", \"Benin\", \"Angola\", \"Iceland\", \"Syria\", \"Sierra Leone\", \"Yemen\", \"Uganda\", \"New Zealand\", \"Bahamas\", \"Malta\", \"Uruguay\", \"Jordan\", \"Cyprus\", \"Georgia\", \"Latvia\", \"Botswana\", \"Burkina Faso\", \"Jamaica\", \"Liberia\", \"Togo\", \"Niger\", \"Andorra\", \"Vietnam\", \"Lesotho\", \"Chad\", \"Sao Tome and Principe\", \"Guyana\", \"Trinidad and Tobago\", \"Diamond Princess\", \"San Marino\", \"Belize\", \"Tanzania\", \"Taiwan*\", \"Burundi\", \"Comoros\", \"Burma\", \"Papua New Guinea\", \"Mauritius\", \"Eritrea\", \"Mongolia\", \"Cambodia\", \"Barbados\", \"Bhutan\", \"Monaco\", \"Brunei\", \"Seychelles\", \"Liechtenstein\", \"Antigua and Barbuda\", \"Saint Vincent and the Grenadines\", \"Fiji\", \"Saint Lucia\", \"Timor-Leste\", \"Grenada\", \"Laos\", \"Dominica\", \"Saint Kitts and Nevis\", \"Holy See\", \"Western Sahara\", \"MS Zaandam\"], \"legendgroup\": \"\", \"locationmode\": \"country names\", \"locations\": [\"US\", \"Brazil\", \"India\", \"Russia\", \"South Africa\", \"Peru\", \"Mexico\", \"Colombia\", \"Chile\", \"Spain\", \"Iran\", \"United Kingdom\", \"Argentina\", \"Saudi Arabia\", \"Pakistan\", \"Bangladesh\", \"France\", \"Italy\", \"Turkey\", \"Germany\", \"Iraq\", \"Philippines\", \"Indonesia\", \"Canada\", \"Qatar\", \"Bolivia\", \"Ecuador\", \"Kazakhstan\", \"Ukraine\", \"Israel\", \"Egypt\", \"China\", \"Dominican Republic\", \"Sweden\", \"Panama\", \"Oman\", \"Belgium\", \"Kuwait\", \"Romania\", \"Belarus\", \"Netherlands\", \"Guatemala\", \"United Arab Emirates\", \"Japan\", \"Poland\", \"Singapore\", \"Portugal\", \"Honduras\", \"Nigeria\", \"Bahrain\", \"Morocco\", \"Ghana\", \"Kyrgyzstan\", \"Armenia\", \"Algeria\", \"Switzerland\", \"Afghanistan\", \"Venezuela\", \"Uzbekistan\", \"Ethiopia\", \"Azerbaijan\", \"Moldova\", \"Kenya\", \"Costa Rica\", \"Serbia\", \"Nepal\", \"Ireland\", \"Austria\", \"Australia\", \"El Salvador\", \"Czechia\", \"Cameroon\", \"West Bank and Gaza\", \"Cote d'Ivoire\", \"Bosnia and Herzegovina\", \"Korea, South\", \"Denmark\", \"Bulgaria\", \"Madagascar\", \"North Macedonia\", \"Sudan\", \"Senegal\", \"Paraguay\", \"Kosovo\", \"Lebanon\", \"Zambia\", \"Norway\", \"Congo (Kinshasa)\", \"Libya\", \"Malaysia\", \"Guinea\", \"Gabon\", \"Tajikistan\", \"Haiti\", \"Albania\", \"Greece\", \"Finland\", \"Luxembourg\", \"Croatia\", \"Mauritania\", \"Maldives\", \"Zimbabwe\", \"Djibouti\", \"Malawi\", \"Hungary\", \"Namibia\", \"Equatorial Guinea\", \"Central African Republic\", \"Nicaragua\", \"Montenegro\", \"Eswatini\", \"Congo (Brazzaville)\", \"Cuba\", \"Thailand\", \"Cabo Verde\", \"Suriname\", \"Somalia\", \"Mozambique\", \"Slovakia\", \"Sri Lanka\", \"Rwanda\", \"Mali\", \"Tunisia\", \"Slovenia\", \"Lithuania\", \"South Sudan\", \"Gambia\", \"Estonia\", \"Guinea-Bissau\", \"Benin\", \"Angola\", \"Iceland\", \"Syria\", \"Sierra Leone\", \"Yemen\", \"Uganda\", \"New Zealand\", \"Bahamas\", \"Malta\", \"Uruguay\", \"Jordan\", \"Cyprus\", \"Georgia\", \"Latvia\", \"Botswana\", \"Burkina Faso\", \"Jamaica\", \"Liberia\", \"Togo\", \"Niger\", \"Andorra\", \"Vietnam\", \"Lesotho\", \"Chad\", \"Sao Tome and Principe\", \"Guyana\", \"Trinidad and Tobago\", \"Diamond Princess\", \"San Marino\", \"Belize\", \"Tanzania\", \"Taiwan*\", \"Burundi\", \"Comoros\", \"Burma\", \"Papua New Guinea\", \"Mauritius\", \"Eritrea\", \"Mongolia\", \"Cambodia\", \"Barbados\", \"Bhutan\", \"Monaco\", \"Brunei\", \"Seychelles\", \"Liechtenstein\", \"Antigua and Barbuda\", \"Saint Vincent and the Grenadines\", \"Fiji\", \"Saint Lucia\", \"Timor-Leste\", \"Grenada\", \"Laos\", \"Dominica\", \"Saint Kitts and Nevis\", \"Holy See\", \"Western Sahara\", \"MS Zaandam\"], \"marker\": {\"color\": [5573847, 3501975, 2905825, 939833, 599940, 558420, 543806, 513719, 391849, 377906, 352558, 324203, 320884, 303973, 290958, 287959, 256534, 256118, 254520, 231292, 192797, 178022, 147211, 125625, 116224, 106065, 105508, 104071, 100810, 99599, 97025, 89567, 89010, 85810, 83855, 83769, 80178, 78767, 74963, 69950, 66843, 65983, 65802, 59900, 59378, 56099, 54992, 52819, 50964, 48303, 47638, 43260, 42507, 42319, 40258, 39026, 37856, 37567, 37547, 35836, 34759, 31937, 31441, 31075, 30209, 29645, 27676, 24431, 24407, 23964, 21045, 18762, 17989, 17249, 17029, 16670, 16453, 14962, 14154, 13194, 12582, 12559, 11817, 11545, 10952, 10372, 10197, 9757, 9707, 9240, 8876, 8319, 8203, 7997, 7967, 7934, 7842, 7637, 7329, 6848, 6370, 5745, 5374, 5282, 5046, 4912, 4892, 4679, 4311, 4229, 4110, 3850, 3565, 3389, 3368, 3366, 3265, 3115, 3102, 2918, 2717, 2667, 2543, 2536, 2528, 2494, 2401, 2227, 2149, 2095, 2044, 2040, 2008, 1969, 1899, 1750, 1665, 1610, 1510, 1506, 1498, 1395, 1370, 1327, 1308, 1297, 1290, 1284, 1212, 1169, 1024, 1007, 996, 972, 888, 846, 767, 712, 704, 605, 509, 486, 422, 417, 399, 361, 346, 306, 298, 273, 156, 153, 150, 143, 132, 99, 94, 58, 28, 26, 25, 24, 22, 18, 17, 12, 10, 9], \"coloraxis\": \"coloraxis\", \"size\": [5573847, 3501975, 2905825, 939833, 599940, 558420, 543806, 513719, 391849, 377906, 352558, 324203, 320884, 303973, 290958, 287959, 256534, 256118, 254520, 231292, 192797, 178022, 147211, 125625, 116224, 106065, 105508, 104071, 100810, 99599, 97025, 89567, 89010, 85810, 83855, 83769, 80178, 78767, 74963, 69950, 66843, 65983, 65802, 59900, 59378, 56099, 54992, 52819, 50964, 48303, 47638, 43260, 42507, 42319, 40258, 39026, 37856, 37567, 37547, 35836, 34759, 31937, 31441, 31075, 30209, 29645, 27676, 24431, 24407, 23964, 21045, 18762, 17989, 17249, 17029, 16670, 16453, 14962, 14154, 13194, 12582, 12559, 11817, 11545, 10952, 10372, 10197, 9757, 9707, 9240, 8876, 8319, 8203, 7997, 7967, 7934, 7842, 7637, 7329, 6848, 6370, 5745, 5374, 5282, 5046, 4912, 4892, 4679, 4311, 4229, 4110, 3850, 3565, 3389, 3368, 3366, 3265, 3115, 3102, 2918, 2717, 2667, 2543, 2536, 2528, 2494, 2401, 2227, 2149, 2095, 2044, 2040, 2008, 1969, 1899, 1750, 1665, 1610, 1510, 1506, 1498, 1395, 1370, 1327, 1308, 1297, 1290, 1284, 1212, 1169, 1024, 1007, 996, 972, 888, 846, 767, 712, 704, 605, 509, 486, 422, 417, 399, 361, 346, 306, 298, 273, 156, 153, 150, 143, 132, 99, 94, 58, 28, 26, 25, 24, 22, 18, 17, 12, 10, 9], \"sizemode\": \"area\", \"sizeref\": 6193.163333333333, \"symbol\": \"circle\"}, \"mode\": \"markers\", \"name\": \"\", \"showlegend\": false, \"type\": \"scattergeo\"}],                        {\"coloraxis\": {\"colorbar\": {\"title\": {\"text\": \"Confirmed\"}}, \"colorscale\": [[0.0, \"#0d0887\"], [0.1111111111111111, \"#46039f\"], [0.2222222222222222, \"#7201a8\"], [0.3333333333333333, \"#9c179e\"], [0.4444444444444444, \"#bd3786\"], [0.5555555555555556, \"#d8576b\"], [0.6666666666666666, \"#ed7953\"], [0.7777777777777778, \"#fb9f3a\"], [0.8888888888888888, \"#fdca26\"], [1.0, \"#f0f921\"]]}, \"geo\": {\"center\": {}, \"domain\": {\"x\": [0.0, 1.0], \"y\": [0.0, 1.0]}, \"projection\": {\"type\": \"orthographic\"}}, \"legend\": {\"itemsizing\": \"constant\", \"tracegroupgap\": 0}, \"margin\": {\"t\": 60}, \"template\": {\"data\": {\"bar\": [{\"error_x\": {\"color\": \"#f2f5fa\"}, \"error_y\": {\"color\": \"#f2f5fa\"}, \"marker\": {\"line\": {\"color\": \"rgb(17,17,17)\", \"width\": 0.5}}, \"type\": \"bar\"}], \"barpolar\": [{\"marker\": {\"line\": {\"color\": \"rgb(17,17,17)\", \"width\": 0.5}}, \"type\": \"barpolar\"}], \"carpet\": [{\"aaxis\": {\"endlinecolor\": \"#A2B1C6\", \"gridcolor\": \"#506784\", \"linecolor\": \"#506784\", \"minorgridcolor\": \"#506784\", \"startlinecolor\": \"#A2B1C6\"}, \"baxis\": {\"endlinecolor\": \"#A2B1C6\", \"gridcolor\": \"#506784\", \"linecolor\": \"#506784\", \"minorgridcolor\": \"#506784\", \"startlinecolor\": \"#A2B1C6\"}, \"type\": \"carpet\"}], \"choropleth\": [{\"colorbar\": {\"outlinewidth\": 0, \"ticks\": \"\"}, \"type\": \"choropleth\"}], \"contour\": [{\"colorbar\": {\"outlinewidth\": 0, \"ticks\": \"\"}, \"colorscale\": [[0.0, \"#0d0887\"], [0.1111111111111111, \"#46039f\"], [0.2222222222222222, \"#7201a8\"], [0.3333333333333333, \"#9c179e\"], [0.4444444444444444, \"#bd3786\"], [0.5555555555555556, \"#d8576b\"], [0.6666666666666666, \"#ed7953\"], [0.7777777777777778, \"#fb9f3a\"], [0.8888888888888888, \"#fdca26\"], [1.0, \"#f0f921\"]], \"type\": \"contour\"}], \"contourcarpet\": [{\"colorbar\": {\"outlinewidth\": 0, \"ticks\": \"\"}, \"type\": \"contourcarpet\"}], \"heatmap\": [{\"colorbar\": {\"outlinewidth\": 0, \"ticks\": \"\"}, \"colorscale\": [[0.0, \"#0d0887\"], [0.1111111111111111, \"#46039f\"], [0.2222222222222222, \"#7201a8\"], [0.3333333333333333, \"#9c179e\"], [0.4444444444444444, \"#bd3786\"], [0.5555555555555556, \"#d8576b\"], [0.6666666666666666, \"#ed7953\"], [0.7777777777777778, \"#fb9f3a\"], [0.8888888888888888, \"#fdca26\"], [1.0, \"#f0f921\"]], \"type\": \"heatmap\"}], \"heatmapgl\": [{\"colorbar\": {\"outlinewidth\": 0, \"ticks\": \"\"}, \"colorscale\": [[0.0, \"#0d0887\"], [0.1111111111111111, \"#46039f\"], [0.2222222222222222, \"#7201a8\"], [0.3333333333333333, \"#9c179e\"], [0.4444444444444444, \"#bd3786\"], [0.5555555555555556, \"#d8576b\"], [0.6666666666666666, \"#ed7953\"], [0.7777777777777778, \"#fb9f3a\"], [0.8888888888888888, \"#fdca26\"], [1.0, \"#f0f921\"]], \"type\": \"heatmapgl\"}], \"histogram\": [{\"marker\": {\"colorbar\": {\"outlinewidth\": 0, \"ticks\": \"\"}}, \"type\": \"histogram\"}], \"histogram2d\": [{\"colorbar\": {\"outlinewidth\": 0, \"ticks\": \"\"}, \"colorscale\": [[0.0, \"#0d0887\"], [0.1111111111111111, \"#46039f\"], [0.2222222222222222, \"#7201a8\"], [0.3333333333333333, \"#9c179e\"], [0.4444444444444444, \"#bd3786\"], [0.5555555555555556, \"#d8576b\"], [0.6666666666666666, \"#ed7953\"], [0.7777777777777778, \"#fb9f3a\"], [0.8888888888888888, \"#fdca26\"], [1.0, \"#f0f921\"]], \"type\": \"histogram2d\"}], \"histogram2dcontour\": [{\"colorbar\": {\"outlinewidth\": 0, \"ticks\": \"\"}, \"colorscale\": [[0.0, \"#0d0887\"], [0.1111111111111111, \"#46039f\"], [0.2222222222222222, \"#7201a8\"], [0.3333333333333333, \"#9c179e\"], [0.4444444444444444, \"#bd3786\"], [0.5555555555555556, \"#d8576b\"], [0.6666666666666666, \"#ed7953\"], [0.7777777777777778, \"#fb9f3a\"], [0.8888888888888888, \"#fdca26\"], [1.0, \"#f0f921\"]], \"type\": \"histogram2dcontour\"}], \"mesh3d\": [{\"colorbar\": {\"outlinewidth\": 0, \"ticks\": \"\"}, \"type\": \"mesh3d\"}], \"parcoords\": [{\"line\": {\"colorbar\": {\"outlinewidth\": 0, \"ticks\": \"\"}}, \"type\": \"parcoords\"}], \"pie\": [{\"automargin\": true, \"type\": \"pie\"}], \"scatter\": [{\"marker\": {\"line\": {\"color\": \"#283442\"}}, \"type\": \"scatter\"}], \"scatter3d\": [{\"line\": {\"colorbar\": {\"outlinewidth\": 0, \"ticks\": \"\"}}, \"marker\": {\"colorbar\": {\"outlinewidth\": 0, \"ticks\": \"\"}}, \"type\": \"scatter3d\"}], \"scattercarpet\": [{\"marker\": {\"colorbar\": {\"outlinewidth\": 0, \"ticks\": \"\"}}, \"type\": \"scattercarpet\"}], \"scattergeo\": [{\"marker\": {\"colorbar\": {\"outlinewidth\": 0, \"ticks\": \"\"}}, \"type\": \"scattergeo\"}], \"scattergl\": [{\"marker\": {\"line\": {\"color\": \"#283442\"}}, \"type\": \"scattergl\"}], \"scattermapbox\": [{\"marker\": {\"colorbar\": {\"outlinewidth\": 0, \"ticks\": \"\"}}, \"type\": \"scattermapbox\"}], \"scatterpolar\": [{\"marker\": {\"colorbar\": {\"outlinewidth\": 0, \"ticks\": \"\"}}, \"type\": \"scatterpolar\"}], \"scatterpolargl\": [{\"marker\": {\"colorbar\": {\"outlinewidth\": 0, \"ticks\": \"\"}}, \"type\": \"scatterpolargl\"}], \"scatterternary\": [{\"marker\": {\"colorbar\": {\"outlinewidth\": 0, \"ticks\": \"\"}}, \"type\": \"scatterternary\"}], \"surface\": [{\"colorbar\": {\"outlinewidth\": 0, \"ticks\": \"\"}, \"colorscale\": [[0.0, \"#0d0887\"], [0.1111111111111111, \"#46039f\"], [0.2222222222222222, \"#7201a8\"], [0.3333333333333333, \"#9c179e\"], [0.4444444444444444, \"#bd3786\"], [0.5555555555555556, \"#d8576b\"], [0.6666666666666666, \"#ed7953\"], [0.7777777777777778, \"#fb9f3a\"], [0.8888888888888888, \"#fdca26\"], [1.0, \"#f0f921\"]], \"type\": \"surface\"}], \"table\": [{\"cells\": {\"fill\": {\"color\": \"#506784\"}, \"line\": {\"color\": \"rgb(17,17,17)\"}}, \"header\": {\"fill\": {\"color\": \"#2a3f5f\"}, \"line\": {\"color\": \"rgb(17,17,17)\"}}, \"type\": \"table\"}]}, \"layout\": {\"annotationdefaults\": {\"arrowcolor\": \"#f2f5fa\", \"arrowhead\": 0, \"arrowwidth\": 1}, \"autotypenumbers\": \"strict\", \"coloraxis\": {\"colorbar\": {\"outlinewidth\": 0, \"ticks\": \"\"}}, \"colorscale\": {\"diverging\": [[0, \"#8e0152\"], [0.1, \"#c51b7d\"], [0.2, \"#de77ae\"], [0.3, \"#f1b6da\"], [0.4, \"#fde0ef\"], [0.5, \"#f7f7f7\"], [0.6, \"#e6f5d0\"], [0.7, \"#b8e186\"], [0.8, \"#7fbc41\"], [0.9, \"#4d9221\"], [1, \"#276419\"]], \"sequential\": [[0.0, \"#0d0887\"], [0.1111111111111111, \"#46039f\"], [0.2222222222222222, \"#7201a8\"], [0.3333333333333333, \"#9c179e\"], [0.4444444444444444, \"#bd3786\"], [0.5555555555555556, \"#d8576b\"], [0.6666666666666666, \"#ed7953\"], [0.7777777777777778, \"#fb9f3a\"], [0.8888888888888888, \"#fdca26\"], [1.0, \"#f0f921\"]], \"sequentialminus\": [[0.0, \"#0d0887\"], [0.1111111111111111, \"#46039f\"], [0.2222222222222222, \"#7201a8\"], [0.3333333333333333, \"#9c179e\"], [0.4444444444444444, \"#bd3786\"], [0.5555555555555556, \"#d8576b\"], [0.6666666666666666, \"#ed7953\"], [0.7777777777777778, \"#fb9f3a\"], [0.8888888888888888, \"#fdca26\"], [1.0, \"#f0f921\"]]}, \"colorway\": [\"#636efa\", \"#EF553B\", \"#00cc96\", \"#ab63fa\", \"#FFA15A\", \"#19d3f3\", \"#FF6692\", \"#B6E880\", \"#FF97FF\", \"#FECB52\"], \"font\": {\"color\": \"#f2f5fa\"}, \"geo\": {\"bgcolor\": \"rgb(17,17,17)\", \"lakecolor\": \"rgb(17,17,17)\", \"landcolor\": \"rgb(17,17,17)\", \"showlakes\": true, \"showland\": true, \"subunitcolor\": \"#506784\"}, \"hoverlabel\": {\"align\": \"left\"}, \"hovermode\": \"closest\", \"mapbox\": {\"style\": \"dark\"}, \"paper_bgcolor\": \"rgb(17,17,17)\", \"plot_bgcolor\": \"rgb(17,17,17)\", \"polar\": {\"angularaxis\": {\"gridcolor\": \"#506784\", \"linecolor\": \"#506784\", \"ticks\": \"\"}, \"bgcolor\": \"rgb(17,17,17)\", \"radialaxis\": {\"gridcolor\": \"#506784\", \"linecolor\": \"#506784\", \"ticks\": \"\"}}, \"scene\": {\"xaxis\": {\"backgroundcolor\": \"rgb(17,17,17)\", \"gridcolor\": \"#506784\", \"gridwidth\": 2, \"linecolor\": \"#506784\", \"showbackground\": true, \"ticks\": \"\", \"zerolinecolor\": \"#C8D4E3\"}, \"yaxis\": {\"backgroundcolor\": \"rgb(17,17,17)\", \"gridcolor\": \"#506784\", \"gridwidth\": 2, \"linecolor\": \"#506784\", \"showbackground\": true, \"ticks\": \"\", \"zerolinecolor\": \"#C8D4E3\"}, \"zaxis\": {\"backgroundcolor\": \"rgb(17,17,17)\", \"gridcolor\": \"#506784\", \"gridwidth\": 2, \"linecolor\": \"#506784\", \"showbackground\": true, \"ticks\": \"\", \"zerolinecolor\": \"#C8D4E3\"}}, \"shapedefaults\": {\"line\": {\"color\": \"#f2f5fa\"}}, \"sliderdefaults\": {\"bgcolor\": \"#C8D4E3\", \"bordercolor\": \"rgb(17,17,17)\", \"borderwidth\": 1, \"tickwidth\": 0}, \"ternary\": {\"aaxis\": {\"gridcolor\": \"#506784\", \"linecolor\": \"#506784\", \"ticks\": \"\"}, \"baxis\": {\"gridcolor\": \"#506784\", \"linecolor\": \"#506784\", \"ticks\": \"\"}, \"bgcolor\": \"rgb(17,17,17)\", \"caxis\": {\"gridcolor\": \"#506784\", \"linecolor\": \"#506784\", \"ticks\": \"\"}}, \"title\": {\"x\": 0.05}, \"updatemenudefaults\": {\"bgcolor\": \"#506784\", \"borderwidth\": 0}, \"xaxis\": {\"automargin\": true, \"gridcolor\": \"#283442\", \"linecolor\": \"#506784\", \"ticks\": \"\", \"title\": {\"standoff\": 15}, \"zerolinecolor\": \"#283442\", \"zerolinewidth\": 2}, \"yaxis\": {\"automargin\": true, \"gridcolor\": \"#283442\", \"linecolor\": \"#506784\", \"ticks\": \"\", \"title\": {\"standoff\": 15}, \"zerolinecolor\": \"#283442\", \"zerolinewidth\": 2}}}},                        {\"responsive\": true}                    ).then(function(){\n",
       "                            \n",
       "var gd = document.getElementById('6b38ea9b-c55f-43d2-8866-390843afc396');\n",
       "var x = new MutationObserver(function (mutations, observer) {{\n",
       "        var display = window.getComputedStyle(gd).display;\n",
       "        if (!display || display === 'none') {{\n",
       "            console.log([gd, 'removed!']);\n",
       "            Plotly.purge(gd);\n",
       "            observer.disconnect();\n",
       "        }}\n",
       "}});\n",
       "\n",
       "// Listen for the removal of the full notebook cells\n",
       "var notebookContainer = gd.closest('#notebook-container');\n",
       "if (notebookContainer) {{\n",
       "    x.observe(notebookContainer, {childList: true});\n",
       "}}\n",
       "\n",
       "// Listen for the clearing of the current output cell\n",
       "var outputEl = gd.closest('.output');\n",
       "if (outputEl) {{\n",
       "    x.observe(outputEl, {childList: true});\n",
       "}}\n",
       "\n",
       "                        })                };                });            </script>        </div>"
      ]
     },
     "metadata": {},
     "output_type": "display_data"
    }
   ],
   "source": [
    "corona_map = px.scatter_geo(countries_df,\n",
    "                     size='Confirmed',\n",
    "                     size_max=30,\n",
    "                     hover_name='Country_Region',\n",
    "                     color='Confirmed',\n",
    "                     locations='Country_Region',\n",
    "                     locationmode='country names',\n",
    "                     projection='orthographic',\n",
    "                     hover_data={\n",
    "                         'Confirmed': ':,2f',\n",
    "                         'Deaths': ':,2f',\n",
    "                         'Recovered': ':,2f',\n",
    "                         'Country_Region': False\n",
    "                     },\n",
    "                     template='plotly_dark'\n",
    "                    )\n",
    "corona_map.show()"
   ]
  },
  {
   "cell_type": "code",
   "execution_count": null,
   "metadata": {},
   "outputs": [],
   "source": []
  },
  {
   "cell_type": "code",
   "execution_count": null,
   "metadata": {},
   "outputs": [],
   "source": []
  }
 ],
 "metadata": {
  "kernelspec": {
   "display_name": "Python 3",
   "language": "python",
   "name": "python3"
  },
  "language_info": {
   "codemirror_mode": {
    "name": "ipython",
    "version": 3
   },
   "file_extension": ".py",
   "mimetype": "text/x-python",
   "name": "python",
   "nbconvert_exporter": "python",
   "pygments_lexer": "ipython3",
   "version": "3.8.5"
  }
 },
 "nbformat": 4,
 "nbformat_minor": 4
}
